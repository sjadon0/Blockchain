{
 "cells": [
  {
   "cell_type": "code",
   "execution_count": 1,
   "id": "5be0742d",
   "metadata": {},
   "outputs": [],
   "source": [
    "import datetime\n",
    "import hashlib\n",
    "import json\n",
    "from flask import Flask,jsonify"
   ]
  },
  {
   "cell_type": "code",
   "execution_count": 2,
   "id": "05e328e4",
   "metadata": {},
   "outputs": [],
   "source": [
    "class Blockchain:\n",
    "    def __init__(self):\n",
    "        self.chain = []\n",
    "        self.create_block(proof = 1, previous_hash ='0')#to create new block\n",
    "    def create_block(self,proof,previous_hash):\n",
    "        block ={'index': len(self.chain) +1 ,\n",
    "                'timestamp': str(datetime.datetime.now()),\n",
    "                'proof' : proof ,\n",
    "                'previous_hash' : previous_hash}\n",
    "        self.chain.append(block)\n",
    "        return block\n",
    "    def get_previous_block(self):\n",
    "        return self.chain[-1]\n",
    "    def proof_of_work(self,previous_proof):\n",
    "        new_proof = 1\n",
    "        check_proof=False\n",
    "        while check_proof is False :\n",
    "            hash_operation = hashlib.sha256(str(new_proof**2 - previous_proof**2).encode()).hexdigest()\n",
    "            if hash_operation[0:4] == '0000':\n",
    "                check_proof = True\n",
    "            else : \n",
    "                new_proof + =1\n",
    "        return new_proof\n",
    "    def hash(self , block ):\n",
    "        jso\n",
    "    \n",
    "            \n",
    "        "
   ]
  },
  {
   "cell_type": "code",
   "execution_count": null,
   "id": "a32d969b",
   "metadata": {},
   "outputs": [],
   "source": []
  }
 ],
 "metadata": {
  "kernelspec": {
   "display_name": "Python 3",
   "language": "python",
   "name": "python3"
  },
  "language_info": {
   "codemirror_mode": {
    "name": "ipython",
    "version": 3
   },
   "file_extension": ".py",
   "mimetype": "text/x-python",
   "name": "python",
   "nbconvert_exporter": "python",
   "pygments_lexer": "ipython3",
   "version": "3.8.3"
  }
 },
 "nbformat": 4,
 "nbformat_minor": 5
}
